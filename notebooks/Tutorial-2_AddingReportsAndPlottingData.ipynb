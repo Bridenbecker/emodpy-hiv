{
 "cells": [
  {
   "cell_type": "markdown",
   "metadata": {},
   "source": [
    "# Tutorial #2 - Add Reports, Download the Reports, and Plot the Data\n",
    "The objective of this tutorial is to give you a very simple way of getting the results from your experiement.  It will start with the code we used in Tutorial #1 and\n",
    "- show you how to add new reports\n",
    "- show you how to download the reports\n",
    "- plot the data in the reports so we can see how the simulation is performing\n",
    "\n",
    "Below is an example of using an IDE to see what functions are available, what they do, and what the parameters are.  To get this in Visual Studio Code, the dialogs just popped up after I typed the period in \"rp.\".\n",
    "![Visual Studio Code Tool Tips](Tutorial-2_IDE_ToolTips.png)\n",
    "\n",
    "## Adding Reports\n",
    "To organize our logic, we will create a method that just configures the reports we want EMOD to produce.  EMOD is already producing the default InsetChart.json (by setting `config.parameters.Enable_Default_Reporting = 1`).  We are going to add two more reports so you can see how it is done and get everyone's favorite `ReportHIVByAgeAndGender`."
   ]
  },
  {
   "cell_type": "code",
   "execution_count": null,
   "metadata": {},
   "outputs": [],
   "source": [
    "def add_reports( task, mainifest ):\n",
    "    import emodpy_hiv.reporters.builtin as rp\n",
    "\n",
    "    rp.add_report_simulation_stats( task, manifest )\n",
    "    rp.add_report_hiv_by_age_and_gender(task,\n",
    "                                        start_year=1985, #avoid outbreak so newly infected plot isn't overwhelmed\n",
    "                                        end_year=2070,\n",
    "                                        collect_gender_data=True,\n",
    "                                        collect_age_bins_data=[15, 20, 25, 30, 35, 40, 45, 50],\n",
    "                                        collect_circumcision_data=True,\n",
    "                                        collect_hiv_stage_data=False,\n",
    "                                        collect_ip_data=[],\n",
    "                                        collect_intervention_data=[],\n",
    "                                        add_transmitters=False,\n",
    "                                        stratify_infected_by_cd4=False,\n",
    "                                        event_counter_list=[],\n",
    "                                        add_relationships=False,\n",
    "                                        add_concordant_relationships=False)\n",
    "\n",
    "    return"
   ]
  },
  {
   "cell_type": "markdown",
   "metadata": {},
   "source": [
    "## Downloading the Reports\n",
    "We add another function to call that will use the `idmtools` concept of \"analyzer\".  Analyzers are intended to be Python logic that you use to process the output of your simulations.  In this tutorial, we will use the builtin `DownloadAnalyzer` to copy the reports to a directory called `tutorial_2_results`.\n",
    "\n",
    "In this method, we will also use the `AnalyzeManager` to execute the `DownloadAnalyzer`.  One could have multiple analyzers.  Imagine that you had multiple report files and you wanted to summarize each of those reports separately.  You could create an analyzer for each report."
   ]
  },
  {
   "cell_type": "code",
   "execution_count": null,
   "metadata": {},
   "outputs": [],
   "source": [
    "def process_results( experiment, platform ):\n",
    "    import os, shutil\n",
    "    from idmtools.analysis.analyze_manager import AnalyzeManager\n",
    "    from idmtools.analysis.download_analyzer import DownloadAnalyzer\n",
    "\n",
    "    # Clean up 'outputs' dir\n",
    "    output_path = \"tutorial_2_results\"\n",
    "    if os.path.exists( output_path ):\n",
    "        shutil.rmtree( output_path )\n",
    "\n",
    "    # files to be downloaded from each sim\n",
    "    filenames = [\n",
    "        'output/InsetChart.json',\n",
    "        'output/ReportHIVByAgeAndGender.csv'\n",
    "    ]\n",
    "    analyzers = [ DownloadAnalyzer( filenames=filenames, output_path=output_path ) ]\n",
    "\n",
    "    manager = AnalyzeManager( platform=platform, analyzers=analyzers )\n",
    "    manager.add_item( experiment )\n",
    "    manager.analyze()\n",
    "    return"
   ]
  },
  {
   "cell_type": "markdown",
   "metadata": {},
   "source": [
    "## Code From Tutorial #1 Plus `add_reports` and `process_results()`\n",
    "The following code is the code we used in Tutorial #1, but all bunched together.  Please note the following:\n",
    "- The imports have been moved to the top.\n",
    "- the `sweep_run_number()` function was placed right after the reports\n",
    "- `add_reports()` is called right after the creation of the EMODTask.\n",
    "- added logic after the experiment.run() to check if the experiement succeeded and call `process_results()'"
   ]
  },
  {
   "cell_type": "code",
   "execution_count": null,
   "metadata": {},
   "outputs": [],
   "source": [
    "# Will make the warnings off by default in 2.0\n",
    "import emod_api.schema_to_class as s2c\n",
    "s2c.show_warnings = False\n",
    "\n",
    "from idmtools.core.platform_factory import Platform\n",
    "from idmtools.entities.experiment import Experiment\n",
    "from idmtools.builders import SimulationBuilder\n",
    "\n",
    "import emod_hiv.bootstrap as dtk\n",
    "import emodpy_hiv.emod_task as emod_task\n",
    "import emodpy_hiv.country_model as cm\n",
    "import manifest\n",
    "\n",
    "\n",
    "def sweep_run_number( simulation, value ):\n",
    "    simulation.task.config.parameters.Run_Number = value\n",
    "    return { \"Run_Number\": value }\n",
    "\n",
    "\n",
    "dtk.setup(local_dir=manifest.executables_dir)\n",
    "\n",
    "#platform = Platform( \"SLURM_LOCAL\", job_directory=\"experiments\" )\n",
    "platform = Platform( \"Calculon\", node_group=\"idm_abcd\", priority=\"Normal\" )\n",
    "\n",
    "zambia = cm.Zambia()\n",
    "task = emod_task.EMODHIVTask.from_default(\n",
    "    eradication_path = manifest.eradication_path,\n",
    "    schema_path      = manifest.schema_file,\n",
    "    param_custom_cb  = zambia.build_config,\n",
    "    campaign_builder = zambia.build_campaign,\n",
    "    demog_builder    = zambia.build_demographics,\n",
    "    ep4_path         = None\n",
    ")\n",
    "add_reports( task, manifest )\n",
    "task.config.parameters.Report_HIV_Period = 365/6\n",
    "\n",
    "#task.set_sif( path_to_sif=manifest.sif_path, platform=platform )\n",
    "task.set_sif( path_to_sif=manifest.sif_path )\n",
    "\n",
    "builder = SimulationBuilder()\n",
    "builder.add_sweep_definition( sweep_run_number, [1,2,3] )\n",
    "\n",
    "experiment = Experiment.from_builder( builder, task, name=\"Tutorial_2\" )\n",
    "\n",
    "experiment.run( wait_until_done=True, platform=platform )\n",
    "\n",
    "# Check result\n",
    "if experiment.succeeded:\n",
    "    print(f\"Experiment {experiment.uid} succeeded.\")\n",
    "\n",
    "    process_results( experiment, platform )\n",
    "    \n",
    "    print(f\"Downloaded resuts for experiment {experiment.uid}.\")\n",
    "else:\n",
    "    print(f\"Experiment {experiment.uid} failed.\\n\")\n"
   ]
  },
  {
   "cell_type": "markdown",
   "metadata": {},
   "source": [
    "## Results Found in `tutorial_2_results`\n",
    "The `DownloadAnalyzer` should have created a directory called `tutorial_2_results` and it should contain three folders where the names of the folders are the ID's (GUID) of the simulations.  Each simulation folder should contain the `InsetChart.json` and `ReportHIVByAgeAndGender.csv` reports.\n",
    "\n",
    "## Plotting the Results\n",
    "The following code uses some tutorial-helper functions to plot the results of these simulations."
   ]
  },
  {
   "cell_type": "code",
   "execution_count": null,
   "metadata": {},
   "outputs": [],
   "source": [
    "import plot_report_hiv_by_age_and_gender as my_plt\n",
    "\n",
    "report_filenames = my_plt.get_report_filenames( \"tutorial_2_results\", \"ReportHIVByAgeAndGender.csv\" )\n",
    "df = my_plt.create_dataframe_from_csv_reports( report_filenames )\n",
    "num_runs = len(report_filenames)\n",
    "my_plt.plot_age_based_data( df, num_runs,  \"Population (15-49) Over Time\", \" Population\" )\n",
    "my_plt.plot_age_based_data( df, num_runs,  \"Number of People (15-49) on ART Over Time\", \" On_ART\" )\n",
    "my_plt.plot_age_based_data( df, num_runs,  \"Number of Newly Infected People (15-49) (Incidence) Over Time\", \" Newly Infected\" )\n",
    "my_plt.plot_age_based_data( df, num_runs,  \"Number of Infected People (15-49) (Prevalence) Over Time\", \" Infected\" )"
   ]
  },
  {
   "cell_type": "markdown",
   "metadata": {},
   "source": [
    "## Moving On To Tutorial #3\n",
    "Tutoria #1 taught us the basics to run an experiment and tutorial #2 taught how to get results from our experiement.  Now, we need to learn more about how to make changes to our baseline country model for our specific project.  Tutorial #3 will introduce us to the builder methods that we can use to make those modifications."
   ]
  }
 ],
 "metadata": {
  "kernelspec": {
   "display_name": "Python 3 (ipykernel)",
   "language": "python",
   "name": "python3"
  },
  "language_info": {
   "codemirror_mode": {
    "name": "ipython",
    "version": 3
   },
   "file_extension": ".py",
   "mimetype": "text/x-python",
   "name": "python",
   "nbconvert_exporter": "python",
   "pygments_lexer": "ipython3",
   "version": "3.9.13"
  }
 },
 "nbformat": 4,
 "nbformat_minor": 4
}
